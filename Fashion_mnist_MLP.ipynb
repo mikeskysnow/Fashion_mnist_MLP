{
 "cells": [
  {
   "cell_type": "code",
   "execution_count": 1,
   "id": "94c6d38b",
   "metadata": {},
   "outputs": [
    {
     "name": "stdout",
     "output_type": "stream",
     "text": [
      "Downloading data from https://storage.googleapis.com/tensorflow/tf-keras-datasets/train-labels-idx1-ubyte.gz\n",
      "32768/29515 [=================================] - 0s 2us/step\n",
      "40960/29515 [=========================================] - 0s 2us/step\n",
      "Downloading data from https://storage.googleapis.com/tensorflow/tf-keras-datasets/train-images-idx3-ubyte.gz\n",
      "26427392/26421880 [==============================] - 8s 0us/step\n",
      "26435584/26421880 [==============================] - 8s 0us/step\n",
      "Downloading data from https://storage.googleapis.com/tensorflow/tf-keras-datasets/t10k-labels-idx1-ubyte.gz\n",
      "16384/5148 [===============================================================================================] - 0s 0s/step\n",
      "Downloading data from https://storage.googleapis.com/tensorflow/tf-keras-datasets/t10k-images-idx3-ubyte.gz\n",
      "4423680/4422102 [==============================] - 2s 0us/step\n",
      "4431872/4422102 [==============================] - 2s 0us/step\n",
      "<class 'numpy.ndarray'> (60000, 28, 28)\n"
     ]
    }
   ],
   "source": [
    "from keras.datasets import fashion_mnist\n",
    "import numpy as np \n",
    "(X_train,y_train),(X_test,y_test)=fashion_mnist.load_data()\n",
    "print(type(X_train),X_train.shape)"
   ]
  },
  {
   "cell_type": "code",
   "execution_count": 2,
   "id": "5e5a3d93",
   "metadata": {},
   "outputs": [
    {
     "name": "stdout",
     "output_type": "stream",
     "text": [
      "[[  0   0   0   0   0   0   0   0   0   0   0   0   0   0   0   0   0   0\n",
      "    0   0   0   0   0   0   0   0   0   0]\n",
      " [  0   0   0   0   0   0   0   0   0   0   0   0   0   0   0   0   0   0\n",
      "    0   0   0   0   0   0   0   0   0   0]\n",
      " [  0   0   0   0   0   0   0   0   0   0   0   0   0   0   0   0   0   0\n",
      "    0   0   0   0   0   0   0   0   0   0]\n",
      " [  0   0   0   0   0   0   0   0   0   0   0   0   1   0   0  13  73   0\n",
      "    0   1   4   0   0   0   0   1   1   0]\n",
      " [  0   0   0   0   0   0   0   0   0   0   0   0   3   0  36 136 127  62\n",
      "   54   0   0   0   1   3   4   0   0   3]\n",
      " [  0   0   0   0   0   0   0   0   0   0   0   0   6   0 102 204 176 134\n",
      "  144 123  23   0   0   0   0  12  10   0]\n",
      " [  0   0   0   0   0   0   0   0   0   0   0   0   0   0 155 236 207 178\n",
      "  107 156 161 109  64  23  77 130  72  15]\n",
      " [  0   0   0   0   0   0   0   0   0   0   0   1   0  69 207 223 218 216\n",
      "  216 163 127 121 122 146 141  88 172  66]\n",
      " [  0   0   0   0   0   0   0   0   0   1   1   1   0 200 232 232 233 229\n",
      "  223 223 215 213 164 127 123 196 229   0]\n",
      " [  0   0   0   0   0   0   0   0   0   0   0   0   0 183 225 216 223 228\n",
      "  235 227 224 222 224 221 223 245 173   0]\n",
      " [  0   0   0   0   0   0   0   0   0   0   0   0   0 193 228 218 213 198\n",
      "  180 212 210 211 213 223 220 243 202   0]\n",
      " [  0   0   0   0   0   0   0   0   0   1   3   0  12 219 220 212 218 192\n",
      "  169 227 208 218 224 212 226 197 209  52]\n",
      " [  0   0   0   0   0   0   0   0   0   0   6   0  99 244 222 220 218 203\n",
      "  198 221 215 213 222 220 245 119 167  56]\n",
      " [  0   0   0   0   0   0   0   0   0   4   0   0  55 236 228 230 228 240\n",
      "  232 213 218 223 234 217 217 209  92   0]\n",
      " [  0   0   1   4   6   7   2   0   0   0   0   0 237 226 217 223 222 219\n",
      "  222 221 216 223 229 215 218 255  77   0]\n",
      " [  0   3   0   0   0   0   0   0   0  62 145 204 228 207 213 221 218 208\n",
      "  211 218 224 223 219 215 224 244 159   0]\n",
      " [  0   0   0   0  18  44  82 107 189 228 220 222 217 226 200 205 211 230\n",
      "  224 234 176 188 250 248 233 238 215   0]\n",
      " [  0  57 187 208 224 221 224 208 204 214 208 209 200 159 245 193 206 223\n",
      "  255 255 221 234 221 211 220 232 246   0]\n",
      " [  3 202 228 224 221 211 211 214 205 205 205 220 240  80 150 255 229 221\n",
      "  188 154 191 210 204 209 222 228 225   0]\n",
      " [ 98 233 198 210 222 229 229 234 249 220 194 215 217 241  65  73 106 117\n",
      "  168 219 221 215 217 223 223 224 229  29]\n",
      " [ 75 204 212 204 193 205 211 225 216 185 197 206 198 213 240 195 227 245\n",
      "  239 223 218 212 209 222 220 221 230  67]\n",
      " [ 48 203 183 194 213 197 185 190 194 192 202 214 219 221 220 236 225 216\n",
      "  199 206 186 181 177 172 181 205 206 115]\n",
      " [  0 122 219 193 179 171 183 196 204 210 213 207 211 210 200 196 194 191\n",
      "  195 191 198 192 176 156 167 177 210  92]\n",
      " [  0   0  74 189 212 191 175 172 175 181 185 188 189 188 193 198 204 209\n",
      "  210 210 211 188 188 194 192 216 170   0]\n",
      " [  2   0   0   0  66 200 222 237 239 242 246 243 244 221 220 193 191 179\n",
      "  182 182 181 176 166 168  99  58   0   0]\n",
      " [  0   0   0   0   0   0   0  40  61  44  72  41  35   0   0   0   0   0\n",
      "    0   0   0   0   0   0   0   0   0   0]\n",
      " [  0   0   0   0   0   0   0   0   0   0   0   0   0   0   0   0   0   0\n",
      "    0   0   0   0   0   0   0   0   0   0]\n",
      " [  0   0   0   0   0   0   0   0   0   0   0   0   0   0   0   0   0   0\n",
      "    0   0   0   0   0   0   0   0   0   0]]\n"
     ]
    }
   ],
   "source": [
    "#样本可视化\n",
    "img1 = X_train[0]\n",
    "print(img1)"
   ]
  },
  {
   "cell_type": "code",
   "execution_count": 3,
   "id": "037e5887",
   "metadata": {},
   "outputs": [
    {
     "data": {
      "text/plain": [
       "Text(0.5, 1.0, 'raw img 1')"
      ]
     },
     "execution_count": 3,
     "metadata": {},
     "output_type": "execute_result"
    },
    {
     "data": {
      "image/png": "[encoded data removed]",
      "text/plain": [
       "<Figure size 216x216 with 1 Axes>"
      ]
     },
     "metadata": {
      "needs_background": "light"
     },
     "output_type": "display_data"
    }
   ],
   "source": [
    "#引入画图包\n",
    "from matplotlib import pyplot as plt\n",
    "fig1=plt.figure(figsize=(3,3))\n",
    "plt.imshow(img1)\n",
    "plt.title('raw img 1')"
   ]
  },
  {
   "cell_type": "code",
   "execution_count": 4,
   "id": "f7bbf6b2",
   "metadata": {},
   "outputs": [
    {
     "name": "stdout",
     "output_type": "stream",
     "text": [
      "784\n",
      "(60000, 784) (60000, 28, 28)\n"
     ]
    }
   ],
   "source": [
    "#输入数据预处理\n",
    "feature_size = img1.shape[0]*img1.shape[1]\n",
    "print(feature_size)\n",
    "X_train_format = X_train.reshape(X_train.shape[0],784)\n",
    "X_test_format = X_test.reshape(X_test.shape[0],feature_size)\n",
    "print(X_train_format.shape,X_train.shape)"
   ]
  },
  {
   "cell_type": "code",
   "execution_count": 5,
   "id": "fd3bab82",
   "metadata": {},
   "outputs": [
    {
     "name": "stdout",
     "output_type": "stream",
     "text": [
      "[0.         0.         0.         0.         0.         0.\n",
      " 0.         0.         0.         0.         0.         0.\n",
      " 0.         0.         0.         0.         0.         0.\n",
      " 0.         0.         0.         0.         0.         0.\n",
      " 0.         0.         0.         0.         0.         0.\n",
      " 0.         0.         0.         0.         0.         0.\n",
      " 0.         0.         0.         0.         0.         0.\n",
      " 0.         0.         0.         0.         0.         0.\n",
      " 0.         0.         0.         0.         0.         0.\n",
      " 0.         0.         0.         0.         0.         0.\n",
      " 0.         0.         0.         0.         0.         0.\n",
      " 0.         0.         0.         0.         0.         0.\n",
      " 0.         0.         0.         0.         0.         0.\n",
      " 0.         0.         0.         0.         0.         0.\n",
      " 0.         0.         0.         0.         0.         0.\n",
      " 0.         0.         0.         0.         0.         0.\n",
      " 0.00392157 0.         0.         0.05098039 0.28627451 0.\n",
      " 0.         0.00392157 0.01568627 0.         0.         0.\n",
      " 0.         0.00392157 0.00392157 0.         0.         0.\n",
      " 0.         0.         0.         0.         0.         0.\n",
      " 0.         0.         0.         0.         0.01176471 0.\n",
      " 0.14117647 0.53333333 0.49803922 0.24313725 0.21176471 0.\n",
      " 0.         0.         0.00392157 0.01176471 0.01568627 0.\n",
      " 0.         0.01176471 0.         0.         0.         0.\n",
      " 0.         0.         0.         0.         0.         0.\n",
      " 0.         0.         0.02352941 0.         0.4        0.8\n",
      " 0.69019608 0.5254902  0.56470588 0.48235294 0.09019608 0.\n",
      " 0.         0.         0.         0.04705882 0.03921569 0.\n",
      " 0.         0.         0.         0.         0.         0.\n",
      " 0.         0.         0.         0.         0.         0.\n",
      " 0.         0.         0.60784314 0.9254902  0.81176471 0.69803922\n",
      " 0.41960784 0.61176471 0.63137255 0.42745098 0.25098039 0.09019608\n",
      " 0.30196078 0.50980392 0.28235294 0.05882353 0.         0.\n",
      " 0.         0.         0.         0.         0.         0.\n",
      " 0.         0.         0.         0.00392157 0.         0.27058824\n",
      " 0.81176471 0.8745098  0.85490196 0.84705882 0.84705882 0.63921569\n",
      " 0.49803922 0.4745098  0.47843137 0.57254902 0.55294118 0.34509804\n",
      " 0.6745098  0.25882353 0.         0.         0.         0.\n",
      " 0.         0.         0.         0.         0.         0.00392157\n",
      " 0.00392157 0.00392157 0.         0.78431373 0.90980392 0.90980392\n",
      " 0.91372549 0.89803922 0.8745098  0.8745098  0.84313725 0.83529412\n",
      " 0.64313725 0.49803922 0.48235294 0.76862745 0.89803922 0.\n",
      " 0.         0.         0.         0.         0.         0.\n",
      " 0.         0.         0.         0.         0.         0.\n",
      " 0.         0.71764706 0.88235294 0.84705882 0.8745098  0.89411765\n",
      " 0.92156863 0.89019608 0.87843137 0.87058824 0.87843137 0.86666667\n",
      " 0.8745098  0.96078431 0.67843137 0.         0.         0.\n",
      " 0.         0.         0.         0.         0.         0.\n",
      " 0.         0.         0.         0.         0.         0.75686275\n",
      " 0.89411765 0.85490196 0.83529412 0.77647059 0.70588235 0.83137255\n",
      " 0.82352941 0.82745098 0.83529412 0.8745098  0.8627451  0.95294118\n",
      " 0.79215686 0.         0.         0.         0.         0.\n",
      " 0.         0.         0.         0.         0.         0.00392157\n",
      " 0.01176471 0.         0.04705882 0.85882353 0.8627451  0.83137255\n",
      " 0.85490196 0.75294118 0.6627451  0.89019608 0.81568627 0.85490196\n",
      " 0.87843137 0.83137255 0.88627451 0.77254902 0.81960784 0.20392157\n",
      " 0.         0.         0.         0.         0.         0.\n",
      " 0.         0.         0.         0.         0.02352941 0.\n",
      " 0.38823529 0.95686275 0.87058824 0.8627451  0.85490196 0.79607843\n",
      " 0.77647059 0.86666667 0.84313725 0.83529412 0.87058824 0.8627451\n",
      " 0.96078431 0.46666667 0.65490196 0.21960784 0.         0.\n",
      " 0.         0.         0.         0.         0.         0.\n",
      " 0.         0.01568627 0.         0.         0.21568627 0.9254902\n",
      " 0.89411765 0.90196078 0.89411765 0.94117647 0.90980392 0.83529412\n",
      " 0.85490196 0.8745098  0.91764706 0.85098039 0.85098039 0.81960784\n",
      " 0.36078431 0.         0.         0.         0.00392157 0.01568627\n",
      " 0.02352941 0.02745098 0.00784314 0.         0.         0.\n",
      " 0.         0.         0.92941176 0.88627451 0.85098039 0.8745098\n",
      " 0.87058824 0.85882353 0.87058824 0.86666667 0.84705882 0.8745098\n",
      " 0.89803922 0.84313725 0.85490196 1.         0.30196078 0.\n",
      " 0.         0.01176471 0.         0.         0.         0.\n",
      " 0.         0.         0.         0.24313725 0.56862745 0.8\n",
      " 0.89411765 0.81176471 0.83529412 0.86666667 0.85490196 0.81568627\n",
      " 0.82745098 0.85490196 0.87843137 0.8745098  0.85882353 0.84313725\n",
      " 0.87843137 0.95686275 0.62352941 0.         0.         0.\n",
      " 0.         0.         0.07058824 0.17254902 0.32156863 0.41960784\n",
      " 0.74117647 0.89411765 0.8627451  0.87058824 0.85098039 0.88627451\n",
      " 0.78431373 0.80392157 0.82745098 0.90196078 0.87843137 0.91764706\n",
      " 0.69019608 0.7372549  0.98039216 0.97254902 0.91372549 0.93333333\n",
      " 0.84313725 0.         0.         0.22352941 0.73333333 0.81568627\n",
      " 0.87843137 0.86666667 0.87843137 0.81568627 0.8        0.83921569\n",
      " 0.81568627 0.81960784 0.78431373 0.62352941 0.96078431 0.75686275\n",
      " 0.80784314 0.8745098  1.         1.         0.86666667 0.91764706\n",
      " 0.86666667 0.82745098 0.8627451  0.90980392 0.96470588 0.\n",
      " 0.01176471 0.79215686 0.89411765 0.87843137 0.86666667 0.82745098\n",
      " 0.82745098 0.83921569 0.80392157 0.80392157 0.80392157 0.8627451\n",
      " 0.94117647 0.31372549 0.58823529 1.         0.89803922 0.86666667\n",
      " 0.7372549  0.60392157 0.74901961 0.82352941 0.8        0.81960784\n",
      " 0.87058824 0.89411765 0.88235294 0.         0.38431373 0.91372549\n",
      " 0.77647059 0.82352941 0.87058824 0.89803922 0.89803922 0.91764706\n",
      " 0.97647059 0.8627451  0.76078431 0.84313725 0.85098039 0.94509804\n",
      " 0.25490196 0.28627451 0.41568627 0.45882353 0.65882353 0.85882353\n",
      " 0.86666667 0.84313725 0.85098039 0.8745098  0.8745098  0.87843137\n",
      " 0.89803922 0.11372549 0.29411765 0.8        0.83137255 0.8\n",
      " 0.75686275 0.80392157 0.82745098 0.88235294 0.84705882 0.7254902\n",
      " 0.77254902 0.80784314 0.77647059 0.83529412 0.94117647 0.76470588\n",
      " 0.89019608 0.96078431 0.9372549  0.8745098  0.85490196 0.83137255\n",
      " 0.81960784 0.87058824 0.8627451  0.86666667 0.90196078 0.2627451\n",
      " 0.18823529 0.79607843 0.71764706 0.76078431 0.83529412 0.77254902\n",
      " 0.7254902  0.74509804 0.76078431 0.75294118 0.79215686 0.83921569\n",
      " 0.85882353 0.86666667 0.8627451  0.9254902  0.88235294 0.84705882\n",
      " 0.78039216 0.80784314 0.72941176 0.70980392 0.69411765 0.6745098\n",
      " 0.70980392 0.80392157 0.80784314 0.45098039 0.         0.47843137\n",
      " 0.85882353 0.75686275 0.70196078 0.67058824 0.71764706 0.76862745\n",
      " 0.8        0.82352941 0.83529412 0.81176471 0.82745098 0.82352941\n",
      " 0.78431373 0.76862745 0.76078431 0.74901961 0.76470588 0.74901961\n",
      " 0.77647059 0.75294118 0.69019608 0.61176471 0.65490196 0.69411765\n",
      " 0.82352941 0.36078431 0.         0.         0.29019608 0.74117647\n",
      " 0.83137255 0.74901961 0.68627451 0.6745098  0.68627451 0.70980392\n",
      " 0.7254902  0.7372549  0.74117647 0.7372549  0.75686275 0.77647059\n",
      " 0.8        0.81960784 0.82352941 0.82352941 0.82745098 0.7372549\n",
      " 0.7372549  0.76078431 0.75294118 0.84705882 0.66666667 0.\n",
      " 0.00784314 0.         0.         0.         0.25882353 0.78431373\n",
      " 0.87058824 0.92941176 0.9372549  0.94901961 0.96470588 0.95294118\n",
      " 0.95686275 0.86666667 0.8627451  0.75686275 0.74901961 0.70196078\n",
      " 0.71372549 0.71372549 0.70980392 0.69019608 0.65098039 0.65882353\n",
      " 0.38823529 0.22745098 0.         0.         0.         0.\n",
      " 0.         0.         0.         0.         0.         0.15686275\n",
      " 0.23921569 0.17254902 0.28235294 0.16078431 0.1372549  0.\n",
      " 0.         0.         0.         0.         0.         0.\n",
      " 0.         0.         0.         0.         0.         0.\n",
      " 0.         0.         0.         0.         0.         0.\n",
      " 0.         0.         0.         0.         0.         0.\n",
      " 0.         0.         0.         0.         0.         0.\n",
      " 0.         0.         0.         0.         0.         0.\n",
      " 0.         0.         0.         0.         0.         0.\n",
      " 0.         0.         0.         0.         0.         0.\n",
      " 0.         0.         0.         0.         0.         0.\n",
      " 0.         0.         0.         0.         0.         0.\n",
      " 0.         0.         0.         0.         0.         0.\n",
      " 0.         0.         0.         0.        ]\n"
     ]
    }
   ],
   "source": [
    "#数据的归一化处理\n",
    "X_train_normal = X_train_format/255\n",
    "X_test_normal = X_test_format/255\n",
    "print(X_train_normal[0])"
   ]
  },
  {
   "cell_type": "code",
   "execution_count": 6,
   "id": "f8b44be3",
   "metadata": {},
   "outputs": [
    {
     "name": "stdout",
     "output_type": "stream",
     "text": [
      "[  0   0   0   0   0   0   0   0   0   0   0   0   0   0   0   0   0   0\n",
      "   0   0   0   0   0   0   0   0   0   0   0   0   0   0   0   0   0   0\n",
      "   0   0   0   0   0   0   0   0   0   0   0   0   0   0   0   0   0   0\n",
      "   0   0   0   0   0   0   0   0   0   0   0   0   0   0   0   0   0   0\n",
      "   0   0   0   0   0   0   0   0   0   0   0   0   0   0   0   0   0   0\n",
      "   0   0   0   0   0   0   1   0   0  13  73   0   0   1   4   0   0   0\n",
      "   0   1   1   0   0   0   0   0   0   0   0   0   0   0   0   0   3   0\n",
      "  36 136 127  62  54   0   0   0   1   3   4   0   0   3   0   0   0   0\n",
      "   0   0   0   0   0   0   0   0   6   0 102 204 176 134 144 123  23   0\n",
      "   0   0   0  12  10   0   0   0   0   0   0   0   0   0   0   0   0   0\n",
      "   0   0 155 236 207 178 107 156 161 109  64  23  77 130  72  15   0   0\n",
      "   0   0   0   0   0   0   0   0   0   1   0  69 207 223 218 216 216 163\n",
      " 127 121 122 146 141  88 172  66   0   0   0   0   0   0   0   0   0   1\n",
      "   1   1   0 200 232 232 233 229 223 223 215 213 164 127 123 196 229   0\n",
      "   0   0   0   0   0   0   0   0   0   0   0   0   0 183 225 216 223 228\n",
      " 235 227 224 222 224 221 223 245 173   0   0   0   0   0   0   0   0   0\n",
      "   0   0   0   0   0 193 228 218 213 198 180 212 210 211 213 223 220 243\n",
      " 202   0   0   0   0   0   0   0   0   0   0   1   3   0  12 219 220 212\n",
      " 218 192 169 227 208 218 224 212 226 197 209  52   0   0   0   0   0   0\n",
      "   0   0   0   0   6   0  99 244 222 220 218 203 198 221 215 213 222 220\n",
      " 245 119 167  56   0   0   0   0   0   0   0   0   0   4   0   0  55 236\n",
      " 228 230 228 240 232 213 218 223 234 217 217 209  92   0   0   0   1   4\n",
      "   6   7   2   0   0   0   0   0 237 226 217 223 222 219 222 221 216 223\n",
      " 229 215 218 255  77   0   0   3   0   0   0   0   0   0   0  62 145 204\n",
      " 228 207 213 221 218 208 211 218 224 223 219 215 224 244 159   0   0   0\n",
      "   0   0  18  44  82 107 189 228 220 222 217 226 200 205 211 230 224 234\n",
      " 176 188 250 248 233 238 215   0   0  57 187 208 224 221 224 208 204 214\n",
      " 208 209 200 159 245 193 206 223 255 255 221 234 221 211 220 232 246   0\n",
      "   3 202 228 224 221 211 211 214 205 205 205 220 240  80 150 255 229 221\n",
      " 188 154 191 210 204 209 222 228 225   0  98 233 198 210 222 229 229 234\n",
      " 249 220 194 215 217 241  65  73 106 117 168 219 221 215 217 223 223 224\n",
      " 229  29  75 204 212 204 193 205 211 225 216 185 197 206 198 213 240 195\n",
      " 227 245 239 223 218 212 209 222 220 221 230  67  48 203 183 194 213 197\n",
      " 185 190 194 192 202 214 219 221 220 236 225 216 199 206 186 181 177 172\n",
      " 181 205 206 115   0 122 219 193 179 171 183 196 204 210 213 207 211 210\n",
      " 200 196 194 191 195 191 198 192 176 156 167 177 210  92   0   0  74 189\n",
      " 212 191 175 172 175 181 185 188 189 188 193 198 204 209 210 210 211 188\n",
      " 188 194 192 216 170   0   2   0   0   0  66 200 222 237 239 242 246 243\n",
      " 244 221 220 193 191 179 182 182 181 176 166 168  99  58   0   0   0   0\n",
      "   0   0   0   0   0  40  61  44  72  41  35   0   0   0   0   0   0   0\n",
      "   0   0   0   0   0   0   0   0   0   0   0   0   0   0   0   0   0   0\n",
      "   0   0   0   0   0   0   0   0   0   0   0   0   0   0   0   0   0   0\n",
      "   0   0   0   0   0   0   0   0   0   0   0   0   0   0   0   0   0   0\n",
      "   0   0   0   0   0   0   0   0   0   0]\n"
     ]
    }
   ],
   "source": [
    "print(X_train_format[0])"
   ]
  },
  {
   "cell_type": "code",
   "execution_count": 8,
   "id": "c26603d8",
   "metadata": {},
   "outputs": [
    {
     "name": "stdout",
     "output_type": "stream",
     "text": [
      "[0. 0. 0. 0. 0. 0. 0. 0. 0. 1.]\n",
      "9\n"
     ]
    }
   ],
   "source": [
    "#输出结果数据的预处理\n",
    "from tensorflow.keras.utils import to_categorical\n",
    "y_train_format = to_categorical(y_train)\n",
    "y_test_format = to_categorical(y_test)\n",
    "print(y_train_format[0])\n",
    "print(y_train[0])"
   ]
  },
  {
   "cell_type": "code",
   "execution_count": 9,
   "id": "ef518cc1",
   "metadata": {},
   "outputs": [
    {
     "name": "stdout",
     "output_type": "stream",
     "text": [
      "(60000,) (60000, 10)\n"
     ]
    }
   ],
   "source": [
    "print(y_train.shape,y_train_format.shape)"
   ]
  },
  {
   "cell_type": "code",
   "execution_count": 10,
   "id": "82b3b239",
   "metadata": {},
   "outputs": [
    {
     "name": "stdout",
     "output_type": "stream",
     "text": [
      "Model: \"sequential\"\n",
      "_________________________________________________________________\n",
      " Layer (type)                Output Shape              Param #   \n",
      "=================================================================\n",
      " dense (Dense)               (None, 392)               307720    \n",
      "                                                                 \n",
      " dense_1 (Dense)             (None, 196)               77028     \n",
      "                                                                 \n",
      " dense_2 (Dense)             (None, 10)                1970      \n",
      "                                                                 \n",
      "=================================================================\n",
      "Total params: 386,718\n",
      "Trainable params: 386,718\n",
      "Non-trainable params: 0\n",
      "_________________________________________________________________\n"
     ]
    }
   ],
   "source": [
    "#建立mlp模型\n",
    "from keras.models import Sequential\n",
    "from keras.layers import Dense, Activation\n",
    "mlp = Sequential()\n",
    "mlp.add(Dense(units = 392, input_dim=784, activation = 'relu'))\n",
    "mlp.add(Dense(units = 196, activation = 'relu'))\n",
    "mlp.add(Dense(units = 10, activation='softmax'))\n",
    "mlp.summary()\n"
   ]
  },
  {
   "cell_type": "code",
   "execution_count": 11,
   "id": "d1c85828",
   "metadata": {},
   "outputs": [],
   "source": [
    "#参数配置\n",
    "mlp.compile(optimizer='adam',loss='categorical_crossentropy',metrics=['categorical_accuracy'])"
   ]
  },
  {
   "cell_type": "code",
   "execution_count": 12,
   "id": "6a404586",
   "metadata": {
    "scrolled": true
   },
   "outputs": [
    {
     "name": "stdout",
     "output_type": "stream",
     "text": [
      "Epoch 1/10\n",
      "1875/1875 [==============================] - 2s 1ms/step - loss: 0.4731 - categorical_accuracy: 0.8282\n",
      "Epoch 2/10\n",
      "1875/1875 [==============================] - 2s 1ms/step - loss: 0.3572 - categorical_accuracy: 0.8680\n",
      "Epoch 3/10\n",
      "1875/1875 [==============================] - 2s 1ms/step - loss: 0.3203 - categorical_accuracy: 0.8812\n",
      "Epoch 4/10\n",
      "1875/1875 [==============================] - 2s 1ms/step - loss: 0.2950 - categorical_accuracy: 0.8904\n",
      "Epoch 5/10\n",
      "1875/1875 [==============================] - 2s 1ms/step - loss: 0.2788 - categorical_accuracy: 0.8956\n",
      "Epoch 6/10\n",
      "1875/1875 [==============================] - 2s 1ms/step - loss: 0.2629 - categorical_accuracy: 0.9012\n",
      "Epoch 7/10\n",
      "1875/1875 [==============================] - 2s 1ms/step - loss: 0.2508 - categorical_accuracy: 0.9057\n",
      "Epoch 8/10\n",
      "1875/1875 [==============================] - 2s 1ms/step - loss: 0.2404 - categorical_accuracy: 0.9087\n",
      "Epoch 9/10\n",
      "1875/1875 [==============================] - 2s 1ms/step - loss: 0.2295 - categorical_accuracy: 0.9134\n",
      "Epoch 10/10\n",
      "1875/1875 [==============================] - 2s 1ms/step - loss: 0.2198 - categorical_accuracy: 0.9162\n"
     ]
    },
    {
     "data": {
      "text/plain": [
       "<keras.callbacks.History at 0x213804d1eb0>"
      ]
     },
     "execution_count": 12,
     "metadata": {},
     "output_type": "execute_result"
    }
   ],
   "source": [
    "#模型训练\n",
    "mlp.fit(X_train_normal,y_train_format,epochs=10)"
   ]
  },
  {
   "cell_type": "code",
   "execution_count": 19,
   "id": "33c2ea2f",
   "metadata": {},
   "outputs": [
    {
     "name": "stdout",
     "output_type": "stream",
     "text": [
      "[9 0 0 3 3 2 7 4 5 5]\n",
      "<class 'numpy.ndarray'>\n"
     ]
    }
   ],
   "source": [
    "#结果预测\n",
    "y_train_predict=np.argmax(mlp.predict(X_train_normal),axis=-1)\n",
    "print(y_train_predict[0:10])\n",
    "print(type(y_train_predict))"
   ]
  },
  {
   "cell_type": "code",
   "execution_count": 20,
   "id": "276e589d",
   "metadata": {},
   "outputs": [
    {
     "name": "stdout",
     "output_type": "stream",
     "text": [
      "0.9254833333333333\n"
     ]
    }
   ],
   "source": [
    "from sklearn.metrics import accuracy_score\n",
    "accuracy_train=accuracy_score(y_train,y_train_predict) #注意这里不需要将y_train转化为onehot格式\n",
    "print(accuracy_train)"
   ]
  },
  {
   "cell_type": "code",
   "execution_count": 21,
   "id": "9e8edd78",
   "metadata": {},
   "outputs": [
    {
     "name": "stdout",
     "output_type": "stream",
     "text": [
      "0.8868\n"
     ]
    }
   ],
   "source": [
    "y_test_predict = np.argmax(mlp.predict(X_test_normal),axis=-1)\n",
    "accuracy_test = accuracy_score(y_test,y_test_predict)\n",
    "print(accuracy_test)"
   ]
  },
  {
   "cell_type": "code",
   "execution_count": 22,
   "id": "b55ab42d",
   "metadata": {},
   "outputs": [
    {
     "name": "stdout",
     "output_type": "stream",
     "text": [
      "{0: 'T shirt', 1: '裤子', 2: '套头衫', 3: '裙子', 4: '外套 ', 5: '凉鞋', 6: '衬衫', 7: '运动鞋', 8: '包 ', 9: '踝靴'}\n"
     ]
    }
   ],
   "source": [
    "#创建结果标签字典\n",
    "label_dict={0:'T shirt',1:'裤子',2:'套头衫',3:'裙子',4:'外套 ',5:'凉鞋',6:'衬衫',7:'运动鞋',8:'包 ',9:'踝靴'}\n",
    "print(label_dict)"
   ]
  },
  {
   "cell_type": "code",
   "execution_count": 23,
   "id": "ca741b5c",
   "metadata": {},
   "outputs": [
    {
     "data": {
      "text/plain": [
       "Text(0.5, 1.0, '包 ')"
      ]
     },
     "execution_count": 23,
     "metadata": {},
     "output_type": "execute_result"
    },
    {
     "name": "stderr",
     "output_type": "stream",
     "text": [
      "C:\\Users\\Administrator\\anaconda3\\envs\\deeplearningCV\\lib\\site-packages\\IPython\\core\\pylabtools.py:151: UserWarning: Glyph 21253 (\\N{CJK UNIFIED IDEOGRAPH-5305}) missing from current font.\n",
      "  fig.canvas.print_figure(bytes_io, **kw)\n"
     ]
    },
    {
     "data": {
      "image/png": "[encoded data removed]",
      "text/plain": [
       "<Figure size 216x216 with 1 Axes>"
      ]
     },
     "metadata": {
      "needs_background": "light"
     },
     "output_type": "display_data"
    }
   ],
   "source": [
    "#出现RuntimeWarning: Glyph 39057 missing from current font.的解决办法：\n",
    "#import matplotlib as mpl\n",
    "#mpl.rcParams['font.sans-serif'] = ['KaiTi', 'SimHei', 'FangSong']  # 汉字字体,优先使用楷体，如果找不到楷体，则使用黑体\n",
    "#mpl.rcParams['font.size'] = 12  # 字体大小\n",
    "#mpl.rcParams['axes.unicode_minus'] = False  # 正常显示负号\n",
    "\n",
    "#样本可视化\n",
    "img1=X_train[100]\n",
    "fig2=plt.figure(figsize=(3,3))\n",
    "plt.imshow(img1)\n",
    "plt.title(label_dict[y_train_predict[100]])"
   ]
  },
  {
   "cell_type": "code",
   "execution_count": 24,
   "id": "c71b5e7d",
   "metadata": {},
   "outputs": [
    {
     "data": {
      "text/plain": [
       "'包 '"
      ]
     },
     "execution_count": 24,
     "metadata": {},
     "output_type": "execute_result"
    }
   ],
   "source": [
    "label_dict[y_train_predict[100]]"
   ]
  },
  {
   "cell_type": "code",
   "execution_count": 25,
   "id": "e2975bb1",
   "metadata": {},
   "outputs": [
    {
     "name": "stdout",
     "output_type": "stream",
     "text": [
      "[1, 2, 3, 4, 5, 6, 7, 8, 9]\n"
     ]
    },
    {
     "data": {
      "image/png": "[encoded data removed]",
      "text/plain": [
       "<Figure size 576x576 with 9 Axes>"
      ]
     },
     "metadata": {
      "needs_background": "light"
     },
     "output_type": "display_data"
    }
   ],
   "source": [
    "a=[i for i in range(1,10)]\n",
    "print(a)\n",
    "fig4=plt.figure(figsize=(8,8))\n",
    "font2={'family':'SimHei'} \n",
    "for i in a:\n",
    "    plt.subplot(3,3,i)\n",
    "    plt.imshow(X_test[i])\n",
    "    plt.title('predict{}'.format(label_dict[y_test_predict[i]]),font2)"
   ]
  },
  {
   "cell_type": "code",
   "execution_count": null,
   "id": "06fe0b95",
   "metadata": {},
   "outputs": [],
   "source": []
  }
 ],
 "metadata": {
  "kernelspec": {
   "display_name": "Python 3 (ipykernel)",
   "language": "python",
   "name": "python3"
  },
  "language_info": {
   "codemirror_mode": {
    "name": "ipython",
    "version": 3
   },
   "file_extension": ".py",
   "mimetype": "text/x-python",
   "name": "python",
   "nbconvert_exporter": "python",
   "pygments_lexer": "ipython3",
   "version": "3.9.7"
  }
 },
 "nbformat": 4,
 "nbformat_minor": 5
}
